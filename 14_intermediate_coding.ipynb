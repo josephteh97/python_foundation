{
 "cells": [
  {
   "cell_type": "markdown",
   "metadata": {},
   "source": [
    "### 1. Reverse a String for a Palindrome Check\n",
    "\n",
    "###### palindrome is a word that reads the same forwards or backward."
   ]
  },
  {
   "cell_type": "code",
   "execution_count": null,
   "metadata": {},
   "outputs": [],
   "source": [
    "def is_palindrome(s)：\n",
    "    # Remove spaces and convert to lowercase for comparison\n",
    "    s = s.replace(\"\", \"\").lower()\n",
    "    # Check if string is equal to its reverse\n",
    "    return s == s[::-1]\n",
    "\n",
    "word = \"A man a plan a canal Panama\"\n",
    "if is_palindrome(word):\n",
    "    print(f\"'{word}' is a palindrome.\")\n",
    "else:\n",
    "    print(f\"'{word}' is not a palindrome.\")"
   ]
  },
  {
   "cell_type": "markdown",
   "metadata": {},
   "source": [
    "### 2. Calculate Greatest Common Divisor, GCD"
   ]
  },
  {
   "cell_type": "code",
   "execution_count": null,
   "metadata": {},
   "outputs": [],
   "source": [
    "def gcd(a, b):\n",
    "    if a == b:\n",
    "        return (\"The two number cannot be the same!\")\n",
    "    elif b > a:\n",
    "        a, b = b, a\n",
    "    else:\n",
    "        pass\n",
    "\n",
    "    while b != 0:\n",
    "        a, b = b, a % b\n",
    "\n",
    "        return a\n",
    "    \n",
    "    x = 56\n",
    "    y = 98\n",
    "    print(f\"The GCD of {x} and {y} is {gcd(x, y)}.\")"
   ]
  },
  {
   "cell_type": "markdown",
   "metadata": {},
   "source": [
    "### 3. Merge Two Sorted Arrays"
   ]
  },
  {
   "cell_type": "code",
   "execution_count": null,
   "metadata": {},
   "outputs": [
    {
     "ename": "",
     "evalue": "",
     "output_type": "error",
     "traceback": [
      "\u001b[1;31mRunning cells with 'Python 3.9.13' requires the ipykernel package.\n",
      "\u001b[1;31mRun the following command to install 'ipykernel' into the Python environment. \n",
      "\u001b[1;31mCommand: 'c:/Users/10791/AppData/Local/Microsoft/WindowsApps/python3.9.exe -m pip install ipykernel -U --user --force-reinstall'"
     ]
    }
   ],
   "source": [
    "def merge_sorted_array(arr1, arr2):\n",
    "    i = j = 0\n",
    "    merged_array = []\n",
    "\n",
    "    # Compare elements from both arrays and add the smaller one to the merged array\n",
    "    while i < len(arr1) and j < len(arr2):\n",
    "        if arr1[i] < arr2[j]:\n",
    "            merged_array.append(arr1[i])\n",
    "            i += 1\n",
    "        else:\n",
    "            merged_array.append(arr2[j])\n",
    "            j += 1\n",
    "\n",
    "    # Add remaining elements if any\n",
    "    merged_array.extend(arr1[i::])\n",
    "    merged_array.extend(arr2[j:])\n",
    "\n",
    "    return merged_array\n",
    "\n",
    "arr1 = [1, 3, 5]\n",
    "arr2 = [2, 4, 6]\n",
    "result = merge_sorted_array(arr1, arr2)\n",
    "print(\"Merged array:\", result)  # Output: Merged array: [1, 2, 3, 4, 5, 6]"
   ]
  },
  {
   "cell_type": "markdown",
   "metadata": {},
   "source": [
    "### 4. Guess the Number Game"
   ]
  },
  {
   "cell_type": "code",
   "execution_count": null,
   "metadata": {},
   "outputs": [],
   "source": [
    "import random\n",
    "\n",
    "def guess_the_number():\n",
    "    number_to_guess = random.randint(1, 100):\n",
    "    guess = None\n",
    "    attempts = 0\n",
    "\n",
    "    while guess != number_to_guess:\n",
    "        guess = int(input(\"Guess a number between 1 and 100: \"))\n",
    "        attempts += 1\n",
    "        if guess < number_to_guess:\n",
    "            print(\"Too Low!\")\n",
    "        elif guess > number_to_guess:\n",
    "            print(\"Too high!\")\n",
    "        else:\n",
    "            print(f\"Congratulations! You guessed the number in {attempts} attempts.\")\n",
    "\n",
    "guess_the_number()"
   ]
  },
  {
   "cell_type": "markdown",
   "metadata": {},
   "source": [
    "### 5. Calculate Age"
   ]
  },
  {
   "cell_type": "code",
   "execution_count": null,
   "metadata": {},
   "outputs": [],
   "source": [
    "from datetime import datetime\n",
    "\n",
    "def calcualte_age(birth_year):\n",
    "    current_year = datetime.now().year\n",
    "    age = current_year - birth_year\n",
    "    return age\n",
    "\n",
    "birth_year = int(input(\"Enter your birth year: \"))\n",
    "age = calcualte_age(birth_year)\n",
    "print(f\"You are {age} years old.\")"
   ]
  }
 ],
 "metadata": {
  "kernelspec": {
   "display_name": ".venv",
   "language": "python",
   "name": "python3"
  },
  "language_info": {
   "name": "python",
   "version": "3.9.13"
  }
 },
 "nbformat": 4,
 "nbformat_minor": 2
}
